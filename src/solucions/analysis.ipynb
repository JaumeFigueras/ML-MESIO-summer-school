{
 "cells": [
  {
   "metadata": {},
   "cell_type": "markdown",
   "source": "Imports",
   "id": "35179c5b29d5a94d"
  },
  {
   "cell_type": "code",
   "id": "initial_id",
   "metadata": {
    "collapsed": true,
    "ExecuteTime": {
     "end_time": "2025-07-12T16:53:20.570139Z",
     "start_time": "2025-07-12T16:53:20.567694Z"
    }
   },
   "source": [
    "import pandas as pd\n",
    "import numpy as np"
   ],
   "outputs": [],
   "execution_count": 31
  },
  {
   "metadata": {},
   "cell_type": "markdown",
   "source": "Load the data",
   "id": "8f72f74fb938a6f1"
  },
  {
   "metadata": {
    "ExecuteTime": {
     "end_time": "2025-07-12T17:27:21.328035Z",
     "start_time": "2025-07-12T17:27:21.249324Z"
    }
   },
   "cell_type": "code",
   "source": [
    "train = pd.read_csv('../../data/train.csv')\n",
    "test = pd.read_csv('../../data/test.csv')\n",
    "train"
   ],
   "id": "fceb5b287c462fd5",
   "outputs": [
    {
     "data": {
      "text/plain": [
       "         ID        X1       X2        X3       X4       X5       X6        X7  \\\n",
       "0        A1  0.004513  0.59322  0.050671  1.08540 -233.820  0.00903  0.008017   \n",
       "1        A3  0.009384  0.21804  0.528450  3.42360   31.312 -0.21350  0.009530   \n",
       "2        A4 -0.029314  0.89582  0.024423  1.04590  -74.655  0.00000 -0.034399   \n",
       "3        A6 -0.201010  1.14050 -0.234190  0.79466  -41.678 -1.54010 -0.201010   \n",
       "4        A7  0.094373  0.24853  0.679850  3.73550  156.550  0.00000  0.124870   \n",
       "...     ...       ...      ...       ...      ...      ...      ...       ...   \n",
       "4132  A5904 -0.272230  0.32789  0.533430  2.62680   64.808 -1.02410 -0.272230   \n",
       "4133  A5905  0.059593  0.65904  0.049671  1.11910  -36.758  0.11068  0.059593   \n",
       "4134  A5907  0.007439  0.84851  0.101600  1.21590  -16.338  0.11702  0.016560   \n",
       "4135  A5908  0.006652  0.62545  0.146540  1.25070  -65.204  0.00000  0.016661   \n",
       "4136  A5910  0.007223  0.63304 -0.097917  0.84532  -93.360 -0.12980  0.007223   \n",
       "\n",
       "           X8       X9  ...       X56       X57      X58      X59      X60  \\\n",
       "0     0.62108  1.01810  ...  0.017824  0.012250  0.98218  0.00000   1.4846   \n",
       "1     3.49980  0.99865  ... -0.001349  0.012297  1.00130  0.00000   7.2205   \n",
       "2     0.11629  1.26320  ...  0.035999 -0.281400  1.02720  3.43670   4.8869   \n",
       "3    -0.12318  7.22300  ... -0.005083  1.430800  1.02780  0.00000  17.0460   \n",
       "4     3.02360  1.31060  ...  0.128590  0.125590  0.90613  0.00000   7.2914   \n",
       "...       ...      ...  ...       ...       ...      ...      ...      ...   \n",
       "4132  2.04980  1.33990  ... -0.202940 -0.405030  1.20320  0.00000   5.3476   \n",
       "4133  0.48762  1.09860  ...  0.089790  0.185440  0.91021  0.75349   8.3641   \n",
       "4134  0.17854  1.87930  ...  0.042288  0.049105  0.99125  2.21740  11.1000   \n",
       "4135  0.59885  1.97960  ...  0.025533  0.017759  0.99159  0.10712   4.3001   \n",
       "4136  0.57967  1.67430  ... -0.004905  0.019682  0.99585  0.00000   5.0694   \n",
       "\n",
       "          X61      X62      X63      X64  TARGET  \n",
       "0      7.7253  275.850   1.3232   2.2043       0  \n",
       "1      7.6368   34.577  10.5560   9.0793       0  \n",
       "2      4.8991  153.720   2.3745   2.8477       0  \n",
       "3     24.0750   57.632   6.3333  77.0810       0  \n",
       "4     13.5800   69.214   5.2735  18.3010       0  \n",
       "...       ...      ...      ...      ...     ...  \n",
       "4132   2.7891   89.323   4.0863   9.6618       0  \n",
       "4133   4.4477  133.560   2.7328   2.1357       0  \n",
       "4134   5.7689   91.409   3.9931   4.3936       0  \n",
       "4135   8.7512  107.770   3.3869   7.3594       0  \n",
       "4136   8.2175  138.010   2.6448   3.6015       0  \n",
       "\n",
       "[4137 rows x 66 columns]"
      ],
      "text/html": [
       "<div>\n",
       "<style scoped>\n",
       "    .dataframe tbody tr th:only-of-type {\n",
       "        vertical-align: middle;\n",
       "    }\n",
       "\n",
       "    .dataframe tbody tr th {\n",
       "        vertical-align: top;\n",
       "    }\n",
       "\n",
       "    .dataframe thead th {\n",
       "        text-align: right;\n",
       "    }\n",
       "</style>\n",
       "<table border=\"1\" class=\"dataframe\">\n",
       "  <thead>\n",
       "    <tr style=\"text-align: right;\">\n",
       "      <th></th>\n",
       "      <th>ID</th>\n",
       "      <th>X1</th>\n",
       "      <th>X2</th>\n",
       "      <th>X3</th>\n",
       "      <th>X4</th>\n",
       "      <th>X5</th>\n",
       "      <th>X6</th>\n",
       "      <th>X7</th>\n",
       "      <th>X8</th>\n",
       "      <th>X9</th>\n",
       "      <th>...</th>\n",
       "      <th>X56</th>\n",
       "      <th>X57</th>\n",
       "      <th>X58</th>\n",
       "      <th>X59</th>\n",
       "      <th>X60</th>\n",
       "      <th>X61</th>\n",
       "      <th>X62</th>\n",
       "      <th>X63</th>\n",
       "      <th>X64</th>\n",
       "      <th>TARGET</th>\n",
       "    </tr>\n",
       "  </thead>\n",
       "  <tbody>\n",
       "    <tr>\n",
       "      <th>0</th>\n",
       "      <td>A1</td>\n",
       "      <td>0.004513</td>\n",
       "      <td>0.59322</td>\n",
       "      <td>0.050671</td>\n",
       "      <td>1.08540</td>\n",
       "      <td>-233.820</td>\n",
       "      <td>0.00903</td>\n",
       "      <td>0.008017</td>\n",
       "      <td>0.62108</td>\n",
       "      <td>1.01810</td>\n",
       "      <td>...</td>\n",
       "      <td>0.017824</td>\n",
       "      <td>0.012250</td>\n",
       "      <td>0.98218</td>\n",
       "      <td>0.00000</td>\n",
       "      <td>1.4846</td>\n",
       "      <td>7.7253</td>\n",
       "      <td>275.850</td>\n",
       "      <td>1.3232</td>\n",
       "      <td>2.2043</td>\n",
       "      <td>0</td>\n",
       "    </tr>\n",
       "    <tr>\n",
       "      <th>1</th>\n",
       "      <td>A3</td>\n",
       "      <td>0.009384</td>\n",
       "      <td>0.21804</td>\n",
       "      <td>0.528450</td>\n",
       "      <td>3.42360</td>\n",
       "      <td>31.312</td>\n",
       "      <td>-0.21350</td>\n",
       "      <td>0.009530</td>\n",
       "      <td>3.49980</td>\n",
       "      <td>0.99865</td>\n",
       "      <td>...</td>\n",
       "      <td>-0.001349</td>\n",
       "      <td>0.012297</td>\n",
       "      <td>1.00130</td>\n",
       "      <td>0.00000</td>\n",
       "      <td>7.2205</td>\n",
       "      <td>7.6368</td>\n",
       "      <td>34.577</td>\n",
       "      <td>10.5560</td>\n",
       "      <td>9.0793</td>\n",
       "      <td>0</td>\n",
       "    </tr>\n",
       "    <tr>\n",
       "      <th>2</th>\n",
       "      <td>A4</td>\n",
       "      <td>-0.029314</td>\n",
       "      <td>0.89582</td>\n",
       "      <td>0.024423</td>\n",
       "      <td>1.04590</td>\n",
       "      <td>-74.655</td>\n",
       "      <td>0.00000</td>\n",
       "      <td>-0.034399</td>\n",
       "      <td>0.11629</td>\n",
       "      <td>1.26320</td>\n",
       "      <td>...</td>\n",
       "      <td>0.035999</td>\n",
       "      <td>-0.281400</td>\n",
       "      <td>1.02720</td>\n",
       "      <td>3.43670</td>\n",
       "      <td>4.8869</td>\n",
       "      <td>4.8991</td>\n",
       "      <td>153.720</td>\n",
       "      <td>2.3745</td>\n",
       "      <td>2.8477</td>\n",
       "      <td>0</td>\n",
       "    </tr>\n",
       "    <tr>\n",
       "      <th>3</th>\n",
       "      <td>A6</td>\n",
       "      <td>-0.201010</td>\n",
       "      <td>1.14050</td>\n",
       "      <td>-0.234190</td>\n",
       "      <td>0.79466</td>\n",
       "      <td>-41.678</td>\n",
       "      <td>-1.54010</td>\n",
       "      <td>-0.201010</td>\n",
       "      <td>-0.12318</td>\n",
       "      <td>7.22300</td>\n",
       "      <td>...</td>\n",
       "      <td>-0.005083</td>\n",
       "      <td>1.430800</td>\n",
       "      <td>1.02780</td>\n",
       "      <td>0.00000</td>\n",
       "      <td>17.0460</td>\n",
       "      <td>24.0750</td>\n",
       "      <td>57.632</td>\n",
       "      <td>6.3333</td>\n",
       "      <td>77.0810</td>\n",
       "      <td>0</td>\n",
       "    </tr>\n",
       "    <tr>\n",
       "      <th>4</th>\n",
       "      <td>A7</td>\n",
       "      <td>0.094373</td>\n",
       "      <td>0.24853</td>\n",
       "      <td>0.679850</td>\n",
       "      <td>3.73550</td>\n",
       "      <td>156.550</td>\n",
       "      <td>0.00000</td>\n",
       "      <td>0.124870</td>\n",
       "      <td>3.02360</td>\n",
       "      <td>1.31060</td>\n",
       "      <td>...</td>\n",
       "      <td>0.128590</td>\n",
       "      <td>0.125590</td>\n",
       "      <td>0.90613</td>\n",
       "      <td>0.00000</td>\n",
       "      <td>7.2914</td>\n",
       "      <td>13.5800</td>\n",
       "      <td>69.214</td>\n",
       "      <td>5.2735</td>\n",
       "      <td>18.3010</td>\n",
       "      <td>0</td>\n",
       "    </tr>\n",
       "    <tr>\n",
       "      <th>...</th>\n",
       "      <td>...</td>\n",
       "      <td>...</td>\n",
       "      <td>...</td>\n",
       "      <td>...</td>\n",
       "      <td>...</td>\n",
       "      <td>...</td>\n",
       "      <td>...</td>\n",
       "      <td>...</td>\n",
       "      <td>...</td>\n",
       "      <td>...</td>\n",
       "      <td>...</td>\n",
       "      <td>...</td>\n",
       "      <td>...</td>\n",
       "      <td>...</td>\n",
       "      <td>...</td>\n",
       "      <td>...</td>\n",
       "      <td>...</td>\n",
       "      <td>...</td>\n",
       "      <td>...</td>\n",
       "      <td>...</td>\n",
       "      <td>...</td>\n",
       "    </tr>\n",
       "    <tr>\n",
       "      <th>4132</th>\n",
       "      <td>A5904</td>\n",
       "      <td>-0.272230</td>\n",
       "      <td>0.32789</td>\n",
       "      <td>0.533430</td>\n",
       "      <td>2.62680</td>\n",
       "      <td>64.808</td>\n",
       "      <td>-1.02410</td>\n",
       "      <td>-0.272230</td>\n",
       "      <td>2.04980</td>\n",
       "      <td>1.33990</td>\n",
       "      <td>...</td>\n",
       "      <td>-0.202940</td>\n",
       "      <td>-0.405030</td>\n",
       "      <td>1.20320</td>\n",
       "      <td>0.00000</td>\n",
       "      <td>5.3476</td>\n",
       "      <td>2.7891</td>\n",
       "      <td>89.323</td>\n",
       "      <td>4.0863</td>\n",
       "      <td>9.6618</td>\n",
       "      <td>0</td>\n",
       "    </tr>\n",
       "    <tr>\n",
       "      <th>4133</th>\n",
       "      <td>A5905</td>\n",
       "      <td>0.059593</td>\n",
       "      <td>0.65904</td>\n",
       "      <td>0.049671</td>\n",
       "      <td>1.11910</td>\n",
       "      <td>-36.758</td>\n",
       "      <td>0.11068</td>\n",
       "      <td>0.059593</td>\n",
       "      <td>0.48762</td>\n",
       "      <td>1.09860</td>\n",
       "      <td>...</td>\n",
       "      <td>0.089790</td>\n",
       "      <td>0.185440</td>\n",
       "      <td>0.91021</td>\n",
       "      <td>0.75349</td>\n",
       "      <td>8.3641</td>\n",
       "      <td>4.4477</td>\n",
       "      <td>133.560</td>\n",
       "      <td>2.7328</td>\n",
       "      <td>2.1357</td>\n",
       "      <td>0</td>\n",
       "    </tr>\n",
       "    <tr>\n",
       "      <th>4134</th>\n",
       "      <td>A5907</td>\n",
       "      <td>0.007439</td>\n",
       "      <td>0.84851</td>\n",
       "      <td>0.101600</td>\n",
       "      <td>1.21590</td>\n",
       "      <td>-16.338</td>\n",
       "      <td>0.11702</td>\n",
       "      <td>0.016560</td>\n",
       "      <td>0.17854</td>\n",
       "      <td>1.87930</td>\n",
       "      <td>...</td>\n",
       "      <td>0.042288</td>\n",
       "      <td>0.049105</td>\n",
       "      <td>0.99125</td>\n",
       "      <td>2.21740</td>\n",
       "      <td>11.1000</td>\n",
       "      <td>5.7689</td>\n",
       "      <td>91.409</td>\n",
       "      <td>3.9931</td>\n",
       "      <td>4.3936</td>\n",
       "      <td>0</td>\n",
       "    </tr>\n",
       "    <tr>\n",
       "      <th>4135</th>\n",
       "      <td>A5908</td>\n",
       "      <td>0.006652</td>\n",
       "      <td>0.62545</td>\n",
       "      <td>0.146540</td>\n",
       "      <td>1.25070</td>\n",
       "      <td>-65.204</td>\n",
       "      <td>0.00000</td>\n",
       "      <td>0.016661</td>\n",
       "      <td>0.59885</td>\n",
       "      <td>1.97960</td>\n",
       "      <td>...</td>\n",
       "      <td>0.025533</td>\n",
       "      <td>0.017759</td>\n",
       "      <td>0.99159</td>\n",
       "      <td>0.10712</td>\n",
       "      <td>4.3001</td>\n",
       "      <td>8.7512</td>\n",
       "      <td>107.770</td>\n",
       "      <td>3.3869</td>\n",
       "      <td>7.3594</td>\n",
       "      <td>0</td>\n",
       "    </tr>\n",
       "    <tr>\n",
       "      <th>4136</th>\n",
       "      <td>A5910</td>\n",
       "      <td>0.007223</td>\n",
       "      <td>0.63304</td>\n",
       "      <td>-0.097917</td>\n",
       "      <td>0.84532</td>\n",
       "      <td>-93.360</td>\n",
       "      <td>-0.12980</td>\n",
       "      <td>0.007223</td>\n",
       "      <td>0.57967</td>\n",
       "      <td>1.67430</td>\n",
       "      <td>...</td>\n",
       "      <td>-0.004905</td>\n",
       "      <td>0.019682</td>\n",
       "      <td>0.99585</td>\n",
       "      <td>0.00000</td>\n",
       "      <td>5.0694</td>\n",
       "      <td>8.2175</td>\n",
       "      <td>138.010</td>\n",
       "      <td>2.6448</td>\n",
       "      <td>3.6015</td>\n",
       "      <td>0</td>\n",
       "    </tr>\n",
       "  </tbody>\n",
       "</table>\n",
       "<p>4137 rows × 66 columns</p>\n",
       "</div>"
      ]
     },
     "execution_count": 55,
     "metadata": {},
     "output_type": "execute_result"
    }
   ],
   "execution_count": 55
  },
  {
   "metadata": {},
   "cell_type": "markdown",
   "source": "List the categorical variables",
   "id": "5e8114e4495d337b"
  },
  {
   "metadata": {
    "ExecuteTime": {
     "end_time": "2025-07-12T17:00:44.877216Z",
     "start_time": "2025-07-12T17:00:44.872181Z"
    }
   },
   "cell_type": "code",
   "source": [
    "# Features types\n",
    "cat_cols = train.select_dtypes(include=['object', 'category']).columns\n",
    "cat_cols"
   ],
   "id": "550cd969e21c1b6c",
   "outputs": [
    {
     "data": {
      "text/plain": [
       "Index(['ID', 'X21', 'X43', 'X55'], dtype='object')"
      ]
     },
     "execution_count": 45,
     "metadata": {},
     "output_type": "execute_result"
    }
   ],
   "execution_count": 45
  },
  {
   "metadata": {},
   "cell_type": "markdown",
   "source": "Check that there is no column in test with missing values that have no missing values in train",
   "id": "6e59aa2c846b88b9"
  },
  {
   "metadata": {
    "ExecuteTime": {
     "end_time": "2025-07-12T16:53:29.554770Z",
     "start_time": "2025-07-12T16:53:29.548603Z"
    }
   },
   "cell_type": "code",
   "source": [
    "train_cols_with_missing = set(train.columns[train.isna().any()].tolist())\n",
    "test_cols_with_missing = set(test.columns[test.isna().any()].tolist())\n",
    "print(test_cols_with_missing - train_cols_with_missing)"
   ],
   "id": "a1cf9a4a83ac1f45",
   "outputs": [
    {
     "name": "stdout",
     "output_type": "stream",
     "text": [
      "set()\n"
     ]
    }
   ],
   "execution_count": 34
  },
  {
   "metadata": {},
   "cell_type": "markdown",
   "source": "Change missing values in categorical columns to 'NA'",
   "id": "519a46df72b3a613"
  },
  {
   "metadata": {
    "ExecuteTime": {
     "end_time": "2025-07-12T17:27:28.661892Z",
     "start_time": "2025-07-12T17:27:28.653634Z"
    }
   },
   "cell_type": "code",
   "source": [
    "cat_cols = train.select_dtypes(include=['object', 'category']).columns\n",
    "train[cat_cols] = train[cat_cols].fillna('NA')\n",
    "test[cat_cols] = test[cat_cols].fillna('NA')"
   ],
   "id": "5c658d5ef2a2f862",
   "outputs": [],
   "execution_count": 56
  },
  {
   "metadata": {},
   "cell_type": "markdown",
   "source": "Remove the wows with more than 3 missing values",
   "id": "c0c561f963a5363f"
  },
  {
   "metadata": {
    "ExecuteTime": {
     "end_time": "2025-07-12T17:24:44.392218Z",
     "start_time": "2025-07-12T17:24:44.382735Z"
    }
   },
   "cell_type": "code",
   "source": [
    "# Count how many missing values each row has\n",
    "missing_per_row = train.isna().sum(axis=1)\n",
    "# Create a table of how many rows have 0, 1, 2, ... missing values\n",
    "missing_counts_table = missing_per_row.value_counts().sort_index()\n",
    "missing_counts_table"
   ],
   "id": "8961488f944c789a",
   "outputs": [
    {
     "data": {
      "text/plain": [
       "0     2138\n",
       "1     1539\n",
       "2      211\n",
       "3      108\n",
       "4       39\n",
       "5       35\n",
       "6       16\n",
       "7       24\n",
       "8        8\n",
       "9        4\n",
       "12       1\n",
       "14       6\n",
       "15       3\n",
       "17       1\n",
       "20       1\n",
       "27       1\n",
       "32       1\n",
       "41       1\n",
       "Name: count, dtype: int64"
      ]
     },
     "execution_count": 50,
     "metadata": {},
     "output_type": "execute_result"
    }
   ],
   "execution_count": 50
  },
  {
   "metadata": {},
   "cell_type": "markdown",
   "source": "Remove the rows with more missing values",
   "id": "2c64304817b2f301"
  },
  {
   "metadata": {
    "ExecuteTime": {
     "end_time": "2025-07-12T17:28:30.589533Z",
     "start_time": "2025-07-12T17:28:30.578288Z"
    }
   },
   "cell_type": "code",
   "source": [
    "# Check the rows\n",
    "rows_with_many_nans = train[train.isna().sum(axis=1) >= 20]\n",
    "original = len(train)\n",
    "# Remove them\n",
    "train = train[train.isna().sum(axis=1) < 20]\n",
    "removed = len(train)\n",
    "print(f\"Original number of rows: {original}; Remaining number of rows: {removed}\")"
   ],
   "id": "46fdae829e1e679e",
   "outputs": [
    {
     "name": "stdout",
     "output_type": "stream",
     "text": [
      "Original number of rows: 4137; Removed rows: 4133\n"
     ]
    }
   ],
   "execution_count": 58
  },
  {
   "metadata": {},
   "cell_type": "markdown",
   "source": "Do the same with test",
   "id": "ad91c0bebc1e2f8e"
  },
  {
   "metadata": {
    "ExecuteTime": {
     "end_time": "2025-07-12T17:31:23.676992Z",
     "start_time": "2025-07-12T17:31:23.669760Z"
    }
   },
   "cell_type": "code",
   "source": [
    "# Count how many missing values each row has\n",
    "missing_per_row = test.isna().sum(axis=1)\n",
    "# Create a table of how many rows have 0, 1, 2, ... missing values\n",
    "missing_counts_table = missing_per_row.value_counts().sort_index()\n",
    "missing_counts_table"
   ],
   "id": "37270338d39aab9a",
   "outputs": [
    {
     "data": {
      "text/plain": [
       "0     921\n",
       "1     668\n",
       "2      83\n",
       "3      55\n",
       "4      14\n",
       "5      15\n",
       "6       6\n",
       "7       3\n",
       "8       2\n",
       "9       1\n",
       "14      1\n",
       "19      1\n",
       "20      3\n",
       "Name: count, dtype: int64"
      ]
     },
     "execution_count": 59,
     "metadata": {},
     "output_type": "execute_result"
    }
   ],
   "execution_count": 59
  },
  {
   "metadata": {},
   "cell_type": "markdown",
   "source": "As the threshold is 20 then no need to remove but.... I leave the code if necessary",
   "id": "9d28b73d70076ccd"
  }
 ],
 "metadata": {
  "kernelspec": {
   "display_name": "Python 3",
   "language": "python",
   "name": "python3"
  },
  "language_info": {
   "codemirror_mode": {
    "name": "ipython",
    "version": 2
   },
   "file_extension": ".py",
   "mimetype": "text/x-python",
   "name": "python",
   "nbconvert_exporter": "python",
   "pygments_lexer": "ipython2",
   "version": "2.7.6"
  }
 },
 "nbformat": 4,
 "nbformat_minor": 5
}
